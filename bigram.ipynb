{
  "cells": [
    {
      "cell_type": "code",
      "execution_count": 1,
      "metadata": {
        "id": "VaK2X8UagUVG"
      },
      "outputs": [],
      "source": [
        "import torch\n",
        "import numpy as np\n",
        "import time\n",
        "\n",
        "device = 'cuda'  if torch.cuda.is_available() else 'cpu'\n",
        "device\n",
        "block_size = 8\n",
        "batch_size =4"
      ]
    },
    {
      "cell_type": "code",
      "execution_count": 3,
      "metadata": {
        "id": "lepxHRiCgUVY",
        "outputId": "edba17f3-e3dd-4210-afb6-c9e75ddec239",
        "colab": {
          "base_uri": "https://localhost:8080/"
        }
      },
      "outputs": [
        {
          "output_type": "stream",
          "name": "stdout",
          "text": [
            "234112\n",
            "['\\n', ' ', '!', '\"', '#', '$', '%', '&', \"'\", '(', ')', '*', ',', '-', '.', '/', '0', '1', '2', '3', '4', '5', '6', '7', '8', '9', ':', ';', '?', 'A', 'B', 'C', 'D', 'E', 'F', 'G', 'H', 'I', 'J', 'K', 'L', 'M', 'N', 'O', 'P', 'Q', 'R', 'S', 'T', 'U', 'V', 'W', 'X', 'Y', 'Z', '[', ']', '_', 'a', 'b', 'c', 'd', 'e', 'f', 'g', 'h', 'i', 'j', 'k', 'l', 'm', 'n', 'o', 'p', 'q', 'r', 's', 't', 'u', 'v', 'w', 'x', 'y', 'z', '—', '‘', '’', '“', '”', '•', '™', '\\ufeff']\n",
            "92\n"
          ]
        }
      ],
      "source": [
        "with open('wizard_of_oz.txt','r',encoding='utf-8') as f:\n",
        "    text = f.read()\n",
        "print(len(text))\n",
        "chars = sorted(set(text))\n",
        "print(chars)\n",
        "print(len(chars))\n",
        "vocab_size = len(chars)"
      ]
    },
    {
      "cell_type": "code",
      "execution_count": 6,
      "metadata": {
        "id": "-nkObkvVgUVh",
        "outputId": "b7cd4238-985c-460d-faa8-7075c0bae988",
        "colab": {
          "base_uri": "https://localhost:8080/"
        }
      },
      "outputs": [
        {
          "output_type": "stream",
          "name": "stdout",
          "text": [
            "torch.Size([234112])\n",
            "tensor([91, 48, 65, 62,  1, 44, 75, 72, 67, 62, 60, 77,  1, 35, 78, 77, 62, 71,\n",
            "        59, 62, 75, 64,  1, 62, 30, 72, 72, 68,  1, 72, 63,  1, 48, 65, 62,  1,\n",
            "        51, 72, 71, 61, 62, 75, 63, 78, 69,  1, 51, 66, 83, 58, 75, 61,  1, 72,\n",
            "        63,  1, 43, 83,  0,  1,  1,  1,  1,  0, 48, 65, 66, 76,  1, 62, 59, 72,\n",
            "        72, 68,  1, 66, 76,  1, 63, 72, 75,  1, 77, 65, 62,  1, 78, 76, 62,  1,\n",
            "        72, 63,  1, 58, 71, 82, 72, 71, 62,  1])\n"
          ]
        }
      ],
      "source": [
        "string_to_int = {ch:i for i,ch in enumerate(chars)}\n",
        "int_to_string = {i:ch for i,ch in enumerate(chars)}\n",
        "encode = lambda s: [string_to_int[ch] for ch in s]\n",
        "decode = lambda x: ''.join([int_to_string[i] for i in x])\n",
        "\n",
        "data = torch.tensor(encode(text), dtype=torch.long)\n",
        "print(data.shape)\n",
        "print(data[:100])"
      ]
    },
    {
      "cell_type": "code",
      "source": [
        "n = int(0.8*len(data))\n",
        "train_data = data[:n]\n",
        "val_data = data[n:]\n",
        "\n",
        "def get_batch(split):\n",
        "  data = train_data if split == 'train' else val_data\n",
        "  ix =torch.randint(len(data)-block_size, (batch_size,))\n",
        "  print(ix)\n",
        "  x = torch.stack([data[i:i+block_size]for i in ix])\n",
        "  y = torch.stack([data[i+1:i+block_size+1]for i in ix])\n",
        "  return x,y\n",
        "x, y = get_batch('train')\n",
        "print('inputs:')\n",
        "print(x)\n",
        "print('targets:')\n",
        "print(y)"
      ],
      "metadata": {
        "id": "ujmDd7-2h1IF",
        "outputId": "a391efb1-3503-4c7f-cc09-26ef8c1d5552",
        "colab": {
          "base_uri": "https://localhost:8080/"
        }
      },
      "execution_count": 13,
      "outputs": [
        {
          "output_type": "stream",
          "name": "stdout",
          "text": [
            "tensor([142022,  37743,  27836,  16048])\n",
            "inputs:\n",
            "tensor([[77,  1, 58, 71, 61,  1, 76, 65],\n",
            "        [60, 75, 72, 80, 14,  0,  0, 48],\n",
            "        [ 1, 59, 62, 69, 72, 71, 64, 62],\n",
            "        [ 1, 80, 65, 62, 75, 62,  1, 37]])\n",
            "targets:\n",
            "tensor([[ 1, 58, 71, 61,  1, 76, 65, 72],\n",
            "        [75, 72, 80, 14,  0,  0, 48, 65],\n",
            "        [59, 62, 69, 72, 71, 64, 62, 61],\n",
            "        [80, 65, 62, 75, 62,  1, 37,  1]])\n"
          ]
        }
      ]
    },
    {
      "cell_type": "code",
      "source": [],
      "metadata": {
        "id": "RS68KxuZtU3i"
      },
      "execution_count": null,
      "outputs": []
    },
    {
      "cell_type": "code",
      "source": [
        "start_time = time.time()\n",
        "zeros = torch.zeros(1,1)\n",
        "end_time=time.time()\n",
        "elapsed_time = end_time - start_time\n",
        "print(f\"{elapsed_time:.10f}\")"
      ],
      "metadata": {
        "id": "xtcBZTTUhPx1",
        "outputId": "adcda38b-704d-417f-abbd-259bfa090240",
        "colab": {
          "base_uri": "https://localhost:8080/"
        }
      },
      "execution_count": 7,
      "outputs": [
        {
          "output_type": "stream",
          "name": "stdout",
          "text": [
            "0.0010936260\n"
          ]
        }
      ]
    },
    {
      "cell_type": "code",
      "execution_count": null,
      "metadata": {
        "id": "K-C6Y1YOgUVj"
      },
      "outputs": [],
      "source": []
    }
  ],
  "metadata": {
    "kernelspec": {
      "display_name": "Python 3",
      "name": "python3"
    },
    "language_info": {
      "codemirror_mode": {
        "name": "ipython",
        "version": 3
      },
      "file_extension": ".py",
      "mimetype": "text/x-python",
      "name": "python",
      "nbconvert_exporter": "python",
      "pygments_lexer": "ipython3",
      "version": "3.10.13"
    },
    "colab": {
      "provenance": [],
      "gpuType": "T4"
    },
    "accelerator": "GPU"
  },
  "nbformat": 4,
  "nbformat_minor": 0
}